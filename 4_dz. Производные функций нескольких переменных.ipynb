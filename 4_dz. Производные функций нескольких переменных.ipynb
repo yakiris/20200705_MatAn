{
 "cells": [
  {
   "cell_type": "markdown",
   "metadata": {},
   "source": [
    "# Тема «Производные функций нескольких переменных»."
   ]
  },
  {
   "cell_type": "markdown",
   "metadata": {},
   "source": [
    "### 1. Найти область определения функции.  \n",
    "### $z = \\sqrt{1 - x^3} + ln(y^2 - 1)$"
   ]
  },
  {
   "cell_type": "markdown",
   "metadata": {},
   "source": [
    "### $x \\leq 1, y_1 > 1, y_2 < -1$"
   ]
  },
  {
   "cell_type": "markdown",
   "metadata": {},
   "source": [
    "### 2. Найти производные 1-го порядка функции.  \n",
    "## $z = (1 + \\frac{ln x}{ln y})^3$"
   ]
  },
  {
   "cell_type": "markdown",
   "metadata": {},
   "source": [
    "## $z'_x = \\frac{3(1 + \\frac{ln(x)}{ln(y)})^2}{x ln(y)}$  \n",
    "## $z'_y = \\frac{3ln(x)(1 + \\frac{ln(x)}{ln(y)})^2}{x ln^2(y)}$"
   ]
  },
  {
   "cell_type": "markdown",
   "metadata": {},
   "source": [
    "### 3. Найти полный дифференциал функции в точке (1;1).  \n",
    "### $z = \\sqrt{2xy + cos^x_y}$"
   ]
  },
  {
   "cell_type": "markdown",
   "metadata": {},
   "source": [
    "--"
   ]
  },
  {
   "cell_type": "markdown",
   "metadata": {},
   "source": [
    "### 4. Исследовать на экстремум функцию  \n",
    "### $z = x^2 + xy + y^2 - 6x - 9y$"
   ]
  },
  {
   "cell_type": "markdown",
   "metadata": {},
   "source": [
    "$z'_x = 2x + y - 6$  \n",
    "$z'_y = x + 2y - 9$  \n",
    "минимум в точках: $x = 1, y = 4, z = -21$"
   ]
  },
  {
   "cell_type": "code",
   "execution_count": null,
   "metadata": {},
   "outputs": [],
   "source": []
  }
 ],
 "metadata": {
  "kernelspec": {
   "display_name": "Python 3",
   "language": "python",
   "name": "python3"
  },
  "language_info": {
   "codemirror_mode": {
    "name": "ipython",
    "version": 3
   },
   "file_extension": ".py",
   "mimetype": "text/x-python",
   "name": "python",
   "nbconvert_exporter": "python",
   "pygments_lexer": "ipython3",
   "version": "3.7.4"
  }
 },
 "nbformat": 4,
 "nbformat_minor": 2
}
