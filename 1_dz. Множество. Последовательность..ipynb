{
 "cells": [
  {
   "cell_type": "markdown",
   "metadata": {},
   "source": [
    "# Тема “Введение в математических анализ”"
   ]
  },
  {
   "cell_type": "markdown",
   "metadata": {},
   "source": [
    "### 1. Как относятся друг к другу множество и последовательность? (в ответе использовать слова типа: часть, целое, общее, частное, родитель, дочерний субъект и т.д.)"
   ]
  },
  {
   "cell_type": "markdown",
   "metadata": {},
   "source": [
    "Множество относится к последовательности как родитель к дочернему субъекту."
   ]
  },
  {
   "cell_type": "markdown",
   "metadata": {},
   "source": [
    "### 2. Прочитать высказывания математической логики, построить их отрицания и установить истинность."
   ]
  },
  {
   "cell_type": "markdown",
   "metadata": {},
   "source": [
    "### 1. $\\forall y \\in [0; 1] : sng(y) = 1$"
   ]
  },
  {
   "cell_type": "markdown",
   "metadata": {},
   "source": [
    "Для любого элемента от 0 до 1 sng принимает значение 1.  \n",
    "Отрицание - $\\exists y \\in [0; 1] : sng(y) \\neq 1$"
   ]
  },
  {
   "cell_type": "markdown",
   "metadata": {},
   "source": [
    "### 2. $\\forall n \\in \\mathbb{N} > 2 : \\exists x, y, z \\in \\mathbb{N} : x^n = y^n + z^n$"
   ]
  },
  {
   "cell_type": "markdown",
   "metadata": {},
   "source": [
    "Для любого натурального числа больше двух существуют натуральные x,y,z, для которых х в степени n равно сумме y и z в степени n.  \n",
    "Отрицание - $\\exists n \\in \\mathbb{N} > 2 : \\exists x, y, z \\in \\mathbb{N} : x^n \\neq y^n + z^n$"
   ]
  },
  {
   "cell_type": "markdown",
   "metadata": {},
   "source": [
    "### 3. $\\forall x \\in \\mathbb{R} \\exists X \\in \\mathbb{R} : X > x$"
   ]
  },
  {
   "cell_type": "markdown",
   "metadata": {},
   "source": [
    "Для любого действительного числа существует действительное число Х, которое больше х.  \n",
    "Отрицание - $\\exists x \\in \\mathbb{R} \\exists X \\in \\mathbb{R} : X \\leqslant x$"
   ]
  },
  {
   "cell_type": "markdown",
   "metadata": {},
   "source": [
    "### 4. $\\forall x \\in \\mathbb{C} \\nexists y \\in \\mathbb{C} : x > y \\| x < y$"
   ]
  },
  {
   "cell_type": "markdown",
   "metadata": {},
   "source": [
    "Для любого комплексного числа не существует y принадлежащего множеству комплексных чисел меньше или больше х.  \n",
    "Отрицание - $\\exists x \\in \\mathbb{C} \\nexists y \\in \\mathbb{C} : x < y \\exists x > y$"
   ]
  },
  {
   "cell_type": "markdown",
   "metadata": {},
   "source": [
    "### 5. $\\forall y \\in [0; \\frac{\\pi}{2}] \\exists \\varepsilon > 0 : sin y < sin(y + \\varepsilon)$"
   ]
  },
  {
   "cell_type": "markdown",
   "metadata": {},
   "source": [
    "Для любого числа от 0 до $\\frac{\\pi}{2}$ существует $\\varepsilon$ больше 0 у которого $sin y < sin(y + \\varepsilon)$  \n",
    "Отрицание - $\\exists y \\in [0; \\frac{\\pi}{2}] \\forall \\varepsilon \\geqslant 0 : sin y > sin(y + \\varepsilon)$"
   ]
  },
  {
   "cell_type": "markdown",
   "metadata": {},
   "source": [
    "### 6. $\\forall y \\in [0; \\pi] \\exists \\varepsilon > 0 : cos y > cos(y + \\varepsilon)$"
   ]
  },
  {
   "cell_type": "markdown",
   "metadata": {},
   "source": [
    "Для любого числа от 0 до $\\pi$ существет  $\\varepsilon$ больше 0 у которого $cos y > cos(y + \\varepsilon)$  \n",
    "Отрицание - $\\exists y \\in [0; \\pi] \\forall \\varepsilon \\geqslant 0 : cos y < cos(y + \\varepsilon)$"
   ]
  },
  {
   "cell_type": "markdown",
   "metadata": {},
   "source": [
    "### 7. $\\exists x : x \\notin {\\mathbb{N, Z, Q, R, C}}$"
   ]
  },
  {
   "cell_type": "markdown",
   "metadata": {},
   "source": [
    "Существует число, которое не принадлежит к натуральным, целым, рациональным, действительным и комплексным числам.  \n",
    "Отрицание - $\\forall x : x \\in {\\mathbb{N, Z, Q, R, C}}$"
   ]
  },
  {
   "cell_type": "markdown",
   "metadata": {},
   "source": [
    "# Тема “Множество”"
   ]
  },
  {
   "cell_type": "markdown",
   "metadata": {},
   "source": [
    "### 1. Даны три множества a, b и с. Необходимо выполнить все изученные виды бинарных операций над всеми комбинациями множеств."
   ]
  },
  {
   "cell_type": "markdown",
   "metadata": {},
   "source": [
    "### 2. *Выполнить задание 1 на языке Python"
   ]
  },
  {
   "cell_type": "code",
   "execution_count": 11,
   "metadata": {},
   "outputs": [],
   "source": [
    "a = {1, 2, 3}"
   ]
  },
  {
   "cell_type": "code",
   "execution_count": 13,
   "metadata": {},
   "outputs": [],
   "source": [
    "b = {1, 3, 5, 7, 9}"
   ]
  },
  {
   "cell_type": "code",
   "execution_count": 12,
   "metadata": {},
   "outputs": [],
   "source": [
    "c = {15, 10, 5, 0}"
   ]
  },
  {
   "cell_type": "code",
   "execution_count": 19,
   "metadata": {},
   "outputs": [
    {
     "data": {
      "text/plain": [
       "{1, 3}"
      ]
     },
     "execution_count": 19,
     "metadata": {},
     "output_type": "execute_result"
    }
   ],
   "source": [
    "# Пересечение\n",
    "is_a_b = a.intersection(b)\n",
    "is_a_b"
   ]
  },
  {
   "cell_type": "code",
   "execution_count": 20,
   "metadata": {},
   "outputs": [
    {
     "data": {
      "text/plain": [
       "{0, 1, 2, 3, 5, 10, 15}"
      ]
     },
     "execution_count": 20,
     "metadata": {},
     "output_type": "execute_result"
    }
   ],
   "source": [
    "# Объединение\n",
    "union_a_c = a.union(c)\n",
    "union_a_c"
   ]
  },
  {
   "cell_type": "code",
   "execution_count": 21,
   "metadata": {},
   "outputs": [
    {
     "data": {
      "text/plain": [
       "{1, 3, 7, 9}"
      ]
     },
     "execution_count": 21,
     "metadata": {},
     "output_type": "execute_result"
    }
   ],
   "source": [
    "# Разность\n",
    "dif_b_c = b.difference(c)\n",
    "dif_b_c"
   ]
  },
  {
   "cell_type": "code",
   "execution_count": 22,
   "metadata": {},
   "outputs": [
    {
     "data": {
      "text/plain": [
       "{0, 1, 3, 7, 9, 10, 15}"
      ]
     },
     "execution_count": 22,
     "metadata": {},
     "output_type": "execute_result"
    }
   ],
   "source": [
    "# Симметрическая разность\n",
    "dif_b_c = b.symmetric_difference(c)\n",
    "dif_b_c"
   ]
  },
  {
   "cell_type": "markdown",
   "metadata": {},
   "source": [
    "# Тема 3 “Последовательность”"
   ]
  },
  {
   "cell_type": "markdown",
   "metadata": {},
   "source": [
    "### 1. Даны 4 последовательности. Необходимо:\n",
    "#### a. исследовать их на монотонность; \n",
    "#### b. исследовать на ограниченность;\n",
    "#### c. найти пятый по счету член."
   ]
  },
  {
   "cell_type": "markdown",
   "metadata": {},
   "source": [
    "### 1. $\\{a_n\\}^\\infty_{n=1}  = 2^n - n$  \n",
    "а. последовательность монотонно возрастающая  \n",
    "b. последовательность неограничена  \n",
    "с. $a_5 = 2^5 - 5$"
   ]
  },
  {
   "cell_type": "code",
   "execution_count": 2,
   "metadata": {},
   "outputs": [
    {
     "data": {
      "text/plain": [
       "27"
      ]
     },
     "execution_count": 2,
     "metadata": {},
     "output_type": "execute_result"
    }
   ],
   "source": [
    "a5 = 2**5 - 5\n",
    "a5"
   ]
  },
  {
   "cell_type": "code",
   "execution_count": 2,
   "metadata": {},
   "outputs": [],
   "source": [
    "import numpy as np\n",
    "import matplotlib.pyplot as plt\n",
    "%matplotlib inline"
   ]
  },
  {
   "cell_type": "code",
   "execution_count": 20,
   "metadata": {},
   "outputs": [
    {
     "data": {
      "text/plain": [
       "[<matplotlib.lines.Line2D at 0xde5f425a48>]"
      ]
     },
     "execution_count": 20,
     "metadata": {},
     "output_type": "execute_result"
    },
    {
     "data": {
      "image/png": "[encoded data removed]",
      "text/plain": [
       "<Figure size 432x288 with 1 Axes>"
      ]
     },
     "metadata": {
      "needs_background": "light"
     },
     "output_type": "display_data"
    }
   ],
   "source": [
    "x = np.linspace(1, 10, 50)\n",
    "y = [(2**i- i) for i in x]\n",
    "plt.plot(x, y)"
   ]
  },
  {
   "cell_type": "markdown",
   "metadata": {},
   "source": [
    "### 2. $\\{b_n\\}^\\infty_{n=2}  = \\frac{1}{1-n}$  \n",
    "а. последовательность монотонно возрастающая  \n",
    "b. последовательность ограничена сверху 0  \n",
    "c. $b_6 = \\frac{1}{1-6}$"
   ]
  },
  {
   "cell_type": "code",
   "execution_count": 9,
   "metadata": {},
   "outputs": [
    {
     "data": {
      "text/plain": [
       "-0.2"
      ]
     },
     "execution_count": 9,
     "metadata": {},
     "output_type": "execute_result"
    }
   ],
   "source": [
    "b6 = 1/(1-6)\n",
    "b6"
   ]
  },
  {
   "cell_type": "code",
   "execution_count": 19,
   "metadata": {},
   "outputs": [
    {
     "data": {
      "text/plain": [
       "[<matplotlib.lines.Line2D at 0xde5f504e88>]"
      ]
     },
     "execution_count": 19,
     "metadata": {},
     "output_type": "execute_result"
    },
    {
     "data": {
      "image/png": "[encoded data removed]",
      "text/plain": [
       "<Figure size 432x288 with 1 Axes>"
      ]
     },
     "metadata": {
      "needs_background": "light"
     },
     "output_type": "display_data"
    }
   ],
   "source": [
    "x = np.linspace(2, 10, 50)\n",
    "y = [(1/(1-i)) for i in x]\n",
    "plt.plot(x, y)"
   ]
  },
  {
   "cell_type": "markdown",
   "metadata": {},
   "source": [
    "### 3. $\\{c_n\\}^\\infty_{n=1}  = -1^n + \\sqrt2n$  \n",
    "а. последовательность монотонно возрастающая  \n",
    "b. последовательность неограничена  \n",
    "c. $c_5 = -1^5 + \\sqrt{2*5}$"
   ]
  },
  {
   "cell_type": "code",
   "execution_count": 10,
   "metadata": {},
   "outputs": [
    {
     "data": {
      "text/plain": [
       "2.1622776601683795"
      ]
     },
     "execution_count": 10,
     "metadata": {},
     "output_type": "execute_result"
    }
   ],
   "source": [
    "import math\n",
    "c5 = (-1)**5 + math.sqrt(2*5)\n",
    "c5"
   ]
  },
  {
   "cell_type": "code",
   "execution_count": 18,
   "metadata": {},
   "outputs": [
    {
     "data": {
      "text/plain": [
       "[<matplotlib.lines.Line2D at 0xde5f4c2908>]"
      ]
     },
     "execution_count": 18,
     "metadata": {},
     "output_type": "execute_result"
    },
    {
     "data": {
      "image/png": "[encoded data removed]",
      "text/plain": [
       "<Figure size 432x288 with 1 Axes>"
      ]
     },
     "metadata": {
      "needs_background": "light"
     },
     "output_type": "display_data"
    }
   ],
   "source": [
    "x = np.linspace(1, 10, 50)\n",
    "y = [(-1**i + math.sqrt(2*i)) for i in x]\n",
    "plt.plot(x, y)"
   ]
  },
  {
   "cell_type": "markdown",
   "metadata": {},
   "source": [
    "### 4. $\\{d_n\\}^\\infty_{n=1}  = (-1)^{2n} + \\frac{2}{n^2}$  \n",
    "а. последовательность монотонно убывающая  \n",
    "b. последовательность ограничена снизу 1  \n",
    "c. $d_5 = (-1)^{2*5} + \\frac{1}{5^2}$"
   ]
  },
  {
   "cell_type": "code",
   "execution_count": 8,
   "metadata": {},
   "outputs": [
    {
     "data": {
      "text/plain": [
       "1.04"
      ]
     },
     "execution_count": 8,
     "metadata": {},
     "output_type": "execute_result"
    }
   ],
   "source": [
    "d5 = (-1)**(2*5) + 1/5**2\n",
    "d5"
   ]
  },
  {
   "cell_type": "code",
   "execution_count": 14,
   "metadata": {},
   "outputs": [
    {
     "data": {
      "text/plain": [
       "[<matplotlib.lines.Line2D at 0xde5f3846c8>]"
      ]
     },
     "execution_count": 14,
     "metadata": {},
     "output_type": "execute_result"
    },
    {
     "data": {
      "image/png": "[encoded data removed]",
      "text/plain": [
       "<Figure size 432x288 with 1 Axes>"
      ]
     },
     "metadata": {
      "needs_background": "light"
     },
     "output_type": "display_data"
    }
   ],
   "source": [
    "x = np.linspace(1, 10, 50)\n",
    "y = [(-1**(2*i) + 1/i**2) for i in x]\n",
    "plt.plot(x, y)"
   ]
  },
  {
   "cell_type": "markdown",
   "metadata": {},
   "source": [
    "### 2. Найти 12-й член заданной неявно последовательности $a_1 = 128, a_{n+1} - a_n = 6$"
   ]
  },
  {
   "cell_type": "markdown",
   "metadata": {},
   "source": [
    "$a_{11+1} = 6*11 + a_1$  \n",
    "$a_{12} = 66 + 128 = 194$"
   ]
  },
  {
   "cell_type": "markdown",
   "metadata": {},
   "source": [
    "### 3. *На языке Python предложить алгоритм вычисляющий численно предел с точностью $\\varepsilon = 10^{-7}$\n",
    "\n",
    "### $\\lim\\limits_{n\\to +\\infty} \\frac{n}{\\sqrt[n] n!}$"
   ]
  },
  {
   "cell_type": "code",
   "execution_count": 10,
   "metadata": {},
   "outputs": [
    {
     "name": "stdout",
     "output_type": "stream",
     "text": [
      "1.6509636244473134\n",
      "1.8072040072196898\n",
      "1.9192597481868872\n",
      "2.0041451295984074\n",
      "2.070996628837124\n",
      "2.1252005594420327\n",
      "2.170156536901524\n",
      "2.2081252132060087\n",
      "2.2406732477028206\n",
      "2.268923390819235\n",
      "2.2937029551771286\n",
      "2.3156360189017344\n",
      "2.335202883868812\n",
      "2.352779665665871\n",
      "2.368665391348515\n",
      "2.3831009973869577\n",
      "2.396282932872044\n",
      "2.408373083650825\n",
      "2.419506134182143\n",
      "2.429795111070674\n",
      "2.4393356142427107\n",
      "2.448209086349558\n",
      "2.4564853674650906\n",
      "2.46422471189274\n",
      "2.471479395415468\n",
      "2.478295007345771\n",
      "2.484711497582766\n",
      "2.4907640314928114\n",
      "2.496483692754992\n",
      "2.501898064970579\n",
      "2.5070317158777042\n",
      "2.511906602779828\n",
      "2.5165424138253716\n",
      "2.5209568567362743\n",
      "2.525165904237891\n",
      "2.5291840036193896\n",
      "2.533024256426202\n",
      "2.5366985731609004\n",
      "2.5402178069761545\n",
      "2.5435918696311526\n",
      "2.546829832411064\n",
      "2.549940014247768\n",
      "2.552930058905755\n",
      "2.5558070027920627\n",
      "2.5585773346992244\n",
      "2.5612470485846335\n",
      "2.5638216903199083\n",
      "2.5663063992029502\n",
      "2.568705944908037\n",
      "2.571024760451175\n",
      "2.5732669716656855\n",
      "2.5754364236136276\n",
      "2.57753670430019\n",
      "2.579571166008542\n",
      "2.5815429445304647\n",
      "2.5834549765321584\n",
      "2.5853100152638544\n",
      "2.5871106447955117\n",
      "2.588859292938235\n",
      "2.5905582429914977\n",
      "2.592209644439393\n",
      "2.593815522704537\n",
      "2.595377788055523\n",
      "2.596898243752819\n",
      "2.5983785935083703\n",
      "2.599820448325733\n",
      "2.6012253327802406\n",
      "2.602594690792201\n",
      "2.6039298909404622\n",
      "2.6052322313586966\n",
      "2.6065029442522945\n",
      "2.607743200069914\n",
      "2.60895411136023\n",
      "2.6101367363413814\n",
      "2.611292082207907\n",
      "2.6124211081975277\n",
      "2.6135247284379473\n",
      "2.614603814591984\n",
      "2.615659198317556\n",
      "2.616691673557546\n",
      "2.617701998673183\n",
      "2.618690898433316\n",
      "2.6196590658708807\n",
      "2.6206071640168287\n",
      "2.6215358275208946\n",
      "2.622445664167764\n",
      "2.6233372562964754\n",
      "2.6242111621302104\n",
      "2.6250679170230424\n",
      "2.625908034629652\n",
      "2.6267320080035232\n",
      "2.6275403106287274\n",
      "2.628333397389902\n",
      "2.6291117054847692\n",
      "2.6298756552831164\n",
      "2.6306256511358934\n",
      "2.631362082137783\n",
      "2.6320853228463696\n",
      "2.632795733960734\n",
      "2.633493662962183\n",
      "2.6341794447195244\n",
      "2.634853402061185\n",
      "2.6355158463162907\n",
      "2.636167077826631\n",
      "2.6368073864313595\n",
      "2.63743705192611\n",
      "2.638056344498083\n",
      "2.638665525138585\n",
      "2.6392648460343446\n",
      "2.6398545509389253\n",
      "2.640434875525355\n",
      "2.641006047721124\n",
      "2.6415682880265345\n",
      "2.642121809817405\n",
      "2.6426668196329803\n",
      "2.64320351744993\n",
      "2.643732096943174\n",
      "2.64425274573431\n",
      "2.6447656456283077\n",
      "2.64527097283911\n",
      "2.6457688982047602\n",
      "2.646259587392613\n",
      "2.646743201095152\n",
      "2.647219895216943\n",
      "2.6476898210531465\n",
      "2.6481531254600723\n",
      "2.648609951018167\n",
      "2.649060436187825\n",
      "2.6495047154584106\n",
      "2.649942919490798\n",
      "2.650375175253807\n",
      "2.6508016061547823\n",
      "2.6512223321646635\n",
      "2.651637469937776\n",
      "2.6520471329266164\n",
      "2.6524514314918823\n",
      "2.6528504730079683\n",
      "2.653244361964142\n",
      "2.653633200061613\n",
      "2.654017086306688\n",
      "2.654396117100196\n",
      "2.6547703863233463\n",
      "2.655139985420205\n",
      "2.6555050034769296\n",
      "2.6558655272979106\n",
      "2.656221641478973\n",
      "2.656573428477758\n",
      "2.656920968681406\n",
      "2.6572643404716896\n",
      "2.6576036202876674\n",
      "2.6579388826860053\n",
      "2.6582702003990493\n",
      "2.6585976443907415\n",
      "2.6589212839104848\n",
      "2.6592411865450423\n",
      "2.659557418268552\n",
      "2.659870043490728\n",
      "2.660179125103347\n",
      "2.660484724525065\n",
      "2.6607869017446513\n",
      "2.661085715362705\n",
      "2.661381222631906\n",
      "2.6616734794958634\n",
      "2.6619625406266247\n",
      "2.6622484594608973\n",
      "2.6625312882350265\n",
      "2.6628110780187835\n",
      "2.663087878748024\n"
     ]
    },
    {
     "ename": "OverflowError",
     "evalue": "int too large to convert to float",
     "output_type": "error",
     "traceback": [
      "\u001b[1;31m---------------------------------------------------------------------------\u001b[0m",
      "\u001b[1;31mOverflowError\u001b[0m                             Traceback (most recent call last)",
      "\u001b[1;32m<ipython-input-10-d77250dd14ce>\u001b[0m in \u001b[0;36m<module>\u001b[1;34m\u001b[0m\n\u001b[0;32m      9\u001b[0m \u001b[1;32mwhile\u001b[0m \u001b[1;33m(\u001b[0m\u001b[0mfac\u001b[0m\u001b[1;33m(\u001b[0m\u001b[0mx\u001b[0m\u001b[1;33m)\u001b[0m \u001b[1;33m-\u001b[0m \u001b[0mfac\u001b[0m\u001b[1;33m(\u001b[0m\u001b[0mx\u001b[0m \u001b[1;33m-\u001b[0m \u001b[1;36m1\u001b[0m\u001b[1;33m)\u001b[0m\u001b[1;33m)\u001b[0m \u001b[1;33m>\u001b[0m \u001b[0mepsilon\u001b[0m\u001b[1;33m:\u001b[0m\u001b[1;33m\u001b[0m\u001b[1;33m\u001b[0m\u001b[0m\n\u001b[0;32m     10\u001b[0m     \u001b[0mx\u001b[0m \u001b[1;33m+=\u001b[0m \u001b[1;36m1\u001b[0m\u001b[1;33m\u001b[0m\u001b[1;33m\u001b[0m\u001b[0m\n\u001b[1;32m---> 11\u001b[1;33m     \u001b[0mprint\u001b[0m\u001b[1;33m(\u001b[0m\u001b[0mfac\u001b[0m\u001b[1;33m(\u001b[0m\u001b[0mx\u001b[0m\u001b[1;33m)\u001b[0m\u001b[1;33m)\u001b[0m\u001b[1;33m\u001b[0m\u001b[1;33m\u001b[0m\u001b[0m\n\u001b[0m",
      "\u001b[1;32m<ipython-input-10-d77250dd14ce>\u001b[0m in \u001b[0;36mfac\u001b[1;34m(n)\u001b[0m\n\u001b[0;32m      5\u001b[0m \u001b[1;33m\u001b[0m\u001b[0m\n\u001b[0;32m      6\u001b[0m \u001b[1;32mdef\u001b[0m \u001b[0mfac\u001b[0m\u001b[1;33m(\u001b[0m\u001b[0mn\u001b[0m\u001b[1;33m)\u001b[0m\u001b[1;33m:\u001b[0m\u001b[1;33m\u001b[0m\u001b[1;33m\u001b[0m\u001b[0m\n\u001b[1;32m----> 7\u001b[1;33m     \u001b[1;32mreturn\u001b[0m \u001b[0mn\u001b[0m\u001b[1;33m/\u001b[0m\u001b[0mmath\u001b[0m\u001b[1;33m.\u001b[0m\u001b[0mfactorial\u001b[0m\u001b[1;33m(\u001b[0m\u001b[0mn\u001b[0m\u001b[1;33m)\u001b[0m\u001b[1;33m**\u001b[0m\u001b[1;33m(\u001b[0m\u001b[1;36m1\u001b[0m\u001b[1;33m/\u001b[0m\u001b[0mn\u001b[0m\u001b[1;33m)\u001b[0m\u001b[1;33m\u001b[0m\u001b[1;33m\u001b[0m\u001b[0m\n\u001b[0m\u001b[0;32m      8\u001b[0m \u001b[1;33m\u001b[0m\u001b[0m\n\u001b[0;32m      9\u001b[0m \u001b[1;32mwhile\u001b[0m \u001b[1;33m(\u001b[0m\u001b[0mfac\u001b[0m\u001b[1;33m(\u001b[0m\u001b[0mx\u001b[0m\u001b[1;33m)\u001b[0m \u001b[1;33m-\u001b[0m \u001b[0mfac\u001b[0m\u001b[1;33m(\u001b[0m\u001b[0mx\u001b[0m \u001b[1;33m-\u001b[0m \u001b[1;36m1\u001b[0m\u001b[1;33m)\u001b[0m\u001b[1;33m)\u001b[0m \u001b[1;33m>\u001b[0m \u001b[0mepsilon\u001b[0m\u001b[1;33m:\u001b[0m\u001b[1;33m\u001b[0m\u001b[1;33m\u001b[0m\u001b[0m\n",
      "\u001b[1;31mOverflowError\u001b[0m: int too large to convert to float"
     ]
    }
   ],
   "source": [
    "import math\n",
    "\n",
    "epsilon = 10**(-7)\n",
    "x = 2\n",
    "\n",
    "def fac(n):\n",
    "    return n/math.factorial(n)**(1/n)\n",
    "\n",
    "while (fac(x) - fac(x - 1)) > epsilon:\n",
    "    x += 1\n",
    "    print(fac(x))"
   ]
  },
  {
   "cell_type": "markdown",
   "metadata": {},
   "source": [
    "### 4. *Предложить оптимизацию алгоритма, полученного в задании 3, ускоряющую его сходимость."
   ]
  },
  {
   "cell_type": "code",
   "execution_count": null,
   "metadata": {},
   "outputs": [],
   "source": [
    "Изменить x += 1, например на x += 10 или x += 20"
   ]
  }
 ],
 "metadata": {
  "kernelspec": {
   "display_name": "Python 3",
   "language": "python",
   "name": "python3"
  },
  "language_info": {
   "codemirror_mode": {
    "name": "ipython",
    "version": 3
   },
   "file_extension": ".py",
   "mimetype": "text/x-python",
   "name": "python",
   "nbconvert_exporter": "python",
   "pygments_lexer": "ipython3",
   "version": "3.7.4"
  }
 },
 "nbformat": 4,
 "nbformat_minor": 2
}
