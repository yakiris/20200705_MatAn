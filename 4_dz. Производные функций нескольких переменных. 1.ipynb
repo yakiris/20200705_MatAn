{
 "cells": [
  {
   "cell_type": "markdown",
   "metadata": {},
   "source": [
    "# Тема \"Производные функций нескольких переменных\". Часть 1."
   ]
  },
  {
   "cell_type": "markdown",
   "metadata": {},
   "source": [
    "### 1. Найти область определения функции.  \n",
    "### $z = \\sqrt{1 - x^3} + ln(y^2 - 1)$"
   ]
  },
  {
   "cell_type": "markdown",
   "metadata": {},
   "source": [
    "### $x \\leq 1, y_1 > 1, y_2 < -1$"
   ]
  },
  {
   "cell_type": "markdown",
   "metadata": {},
   "source": [
    "### 2. Найти производные 1-го порядка функции.  \n",
    "## $z = (1 + \\frac{ln x}{ln y})^3$"
   ]
  },
  {
   "cell_type": "markdown",
   "metadata": {},
   "source": [
    "## $z'_x = 3(1 + \\frac{ln\\ x}{ln\\ y})^2 \\cdot \\frac{1}{ln\\ y} \\cdot \\frac{1}{x} = \\frac{3}{x \\cdot ln\\ y} \\cdot (1 + \\frac{ln\\ x}{ln\\ y})^2$  \n",
    "## $z'_y = 3(1 + \\frac{ln\\ x}{ln\\ y})^2 \\cdot ln\\ x \\cdot (\\frac{1}{ln\\ y})'_y = - \\frac{3\\ ln\\ x}{y \\cdot ln^2y} \\cdot (1 + \\frac{ln\\ x}{ln\\ y})^2$"
   ]
  },
  {
   "cell_type": "markdown",
   "metadata": {},
   "source": [
    "### 3. Найти полный дифференциал функции в точке (1;1).  \n",
    "### $z = \\sqrt{2xy + cos^x_y}$"
   ]
  },
  {
   "cell_type": "markdown",
   "metadata": {},
   "source": [
    "$dz = z'_x \\cdot dx + z'_y \\cdot dy$  \n",
    "$z = \\sqrt{2xy + cos\\frac{x}{y}} = (2xy + cos\\frac{x}{y})^{\\frac{1}{2}}$  \n",
    "$z'_x = \\frac{1}{2\\sqrt{2xy + cos \\frac{x}{y}}} \\cdot (2y - (sin\\frac{x}{y}) \\cdot \\frac{1}{y})$  \n",
    "$z'_x(1;1) = \\frac{1}{2\\sqrt{2 + cos1}}(2 - sin1)$  \n",
    "$z'_y(1;1) = \\frac{2 + sin1}{2\\sqrt{2 + cos1}}$  \n",
    "$dz(1;1) = 0.364dx + 0.891dy$"
   ]
  },
  {
   "cell_type": "markdown",
   "metadata": {},
   "source": [
    "### 4. Исследовать на экстремум функцию  \n",
    "### $z = x^2 + xy + y^2 - 6x - 9y$"
   ]
  },
  {
   "cell_type": "markdown",
   "metadata": {},
   "source": [
    "$z'_x = 2x + y - 6$  \n",
    "$z'_y = x + 2y - 9$  \n",
    "минимум в точках: $x = 1, y = 4, z = -21$"
   ]
  },
  {
   "cell_type": "code",
   "execution_count": null,
   "metadata": {},
   "outputs": [],
   "source": []
  }
 ],
 "metadata": {
  "kernelspec": {
   "display_name": "Python 3",
   "language": "python",
   "name": "python3"
  },
  "language_info": {
   "codemirror_mode": {
    "name": "ipython",
    "version": 3
   },
   "file_extension": ".py",
   "mimetype": "text/x-python",
   "name": "python",
   "nbconvert_exporter": "python",
   "pygments_lexer": "ipython3",
   "version": "3.7.4"
  }
 },
 "nbformat": 4,
 "nbformat_minor": 2
}
