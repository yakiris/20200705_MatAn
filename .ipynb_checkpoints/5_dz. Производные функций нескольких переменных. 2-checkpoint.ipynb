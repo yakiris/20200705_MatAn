{
 "cells": [
  {
   "cell_type": "markdown",
   "metadata": {},
   "source": [
    "# Тема \"Производные функций нескольких переменных\". Часть 2."
   ]
  },
  {
   "cell_type": "markdown",
   "metadata": {},
   "source": [
    "### 1. Исследовать функцию на условный экстремум\n",
    "### $U = 3 - 8x + 6y, если\\ x^2 + y^2 = 36 $"
   ]
  },
  {
   "cell_type": "markdown",
   "metadata": {},
   "source": [
    "**Функция Лагранжа**  \n",
    "$L = 3 - 8x + 6y + \\lambda(x^2 + y^2 - 36)$  \n",
    "\n",
    "**Необходимые условия**  \n",
    "частные производные первого порядка по всем переменным приравнять к нулю     \n",
    "$\\begin{cases}\n",
    "L'_x = - 8 + 2x\\lambda = 0 \\\\  \n",
    "L'_y = 6 + 2y\\lambda = 0\\\\ \n",
    "L'_\\lambda = x^2 + y^2 - 36 = 0\n",
    "\\end{cases}  \n",
    "\\Rightarrow\n",
    "\\begin{cases}\n",
    "x = \\pm \\frac{24}{5} \\\\\n",
    "y = \\pm \\frac{18}{5} \\\\\n",
    "\\lambda = \\pm \\frac{5}{6}\n",
    "\\end{cases}\n",
    "$\n",
    "\n",
    "**Достаточные условия**  \n",
    "частные производные второго порядка по всем переменным  \n",
    "$A = $\n",
    "$\\begin{pmatrix}\n",
    "L''_{\\lambda\\lambda} & L''_{\\lambda x} & L''_{\\lambda y} \\\\\n",
    "L''_{x \\lambda} & L''_{xx} & L''_{xy} \\\\\n",
    "L''_{y \\lambda} & L''_{yx} & L''_{yy}\n",
    "\\end{pmatrix}\n",
    "=\n",
    "\\begin{pmatrix}\n",
    "0 & 2x & 2y \\\\\n",
    "2x & 2\\lambda & 0 \\\\\n",
    "2y & 0 & 2\\lambda\n",
    "\\end{pmatrix}$  \n",
    "\n",
    "определитель матрицы  \n",
    "$(-2x) * (4x \\lambda) + 2y * (-4y \\lambda) = -288 \\lambda$  \n",
    "\n",
    "$-288 * (- \\frac{5}{6}) = 240 > 0 - максимум$  \n",
    "$-288 * (\\frac{5}{6}) = - 240 < 0 - минимум$ "
   ]
  },
  {
   "cell_type": "markdown",
   "metadata": {},
   "source": [
    "### 2. Исследовать функцию на условный экстремум  \n",
    "### $U = 2x^2 + 12xy + 32y^2 + 15, если\\ x^2 + 16y^2 = 64 $ "
   ]
  },
  {
   "cell_type": "markdown",
   "metadata": {},
   "source": [
    "**Функция Лагранжа**  \n",
    "$L = 2x^2 + 12xy + 32y^2 + 15 + \\lambda(x^2 + 16y^2 - 64)$  \n",
    "\n",
    "**Необходимые условия**  \n",
    "частные производные первого порядка по всем переменным приравнять к нулю     \n",
    "$\\begin{cases}\n",
    "L'_x = 4x + 12y + 2x \\lambda = 0 \\\\  \n",
    "L'_y = 12x + 64y + 32y\\lambda = 0\\\\ \n",
    "L'_\\lambda = x^2 + 16y^2 - 64 = 0\n",
    "\\end{cases}  \n",
    "\\Rightarrow\n",
    "\\begin{cases}\n",
    "x_1 \\approx - 1.94; x_2 \\approx 1 \\\\\n",
    "y_1 \\approx - 0.68; y_2 \\approx 0.18 \\\\ \n",
    "\\lambda_1 \\approx 0.08; \\lambda_2 \\approx -3.08\n",
    "\\end{cases}\n",
    "$\n",
    "\n",
    "**Достаточные условия**  \n",
    "частные производные второго порядка по всем переменным  \n",
    "$A = $\n",
    "$\\begin{pmatrix}\n",
    "L''_{\\lambda\\lambda} & L''_{\\lambda x} & L''_{\\lambda y} \\\\\n",
    "L''_{x \\lambda} & L''_{xx} & L''_{xy} \\\\\n",
    "L''_{y \\lambda} & L''_{yx} & L''_{yy}\n",
    "\\end{pmatrix}\n",
    "=\n",
    "\\begin{pmatrix}\n",
    "0 & 2x & 32y \\\\\n",
    "2x & 4 + 2\\lambda & 12 \\\\\n",
    "32y & 12 & 64 + 32\\lambda\n",
    "\\end{pmatrix}$  \n",
    "\n",
    "определитель матрицы  \n",
    "$1536xy - (2 +\\lambda) * 8192$  \n",
    "\n",
    "$1536 * (-1.94) * (-0.68) - (2 - 0.08) * 8192 \\approx -13733.68 < 0 - минимум$  \n",
    "$1536 * 1 * 0.18 - (2 + 3.08) * 8192 \\approx -41338.88 < 0 - минимум$ "
   ]
  },
  {
   "cell_type": "markdown",
   "metadata": {},
   "source": [
    "### 3. Найти производную функции \n",
    "### $U = x^2 + y^2 + z^2$ по направлению вектора $\\vec{c}(-9, 8, -12)$ в точке $M(8, -12, 9)$"
   ]
  },
  {
   "cell_type": "markdown",
   "metadata": {},
   "source": [
    "координаты нормированного вектора  \n",
    "$|\\vec{с}| = \\sqrt{x^2_0 + y^2_0 + x^2_0} = \\sqrt{(-9)^2 + 8^2 + (-12)^2} = \\sqrt{289} = 17$  \n",
    "$\\vec{с_0} = \\frac{\\vec{с}}{|\\vec{с}|} = (-\\frac{9}{17} + \\frac{8}{17} - \\frac{12}{17})$  \n",
    "\n",
    "частные производные первого порядка по всем переменным  \n",
    "$\\begin{cases}\n",
    "U'_x = 2x \\\\  \n",
    "U'_y = 2y \\\\ \n",
    "U'_z = 2z\n",
    "\\end{cases}$  \n",
    "\n",
    "значение градиента в точке  \n",
    "$grad U |_{(8, -12, 9)} = (16, -24, 18)$  \n",
    "\n",
    "скалярное произведение градиента в точке на нормированный направляющий вектор  \n",
    "$U'_{\\vec{b}}|_{(8, -12, 9)} = -\\frac{9}{17} * 16 + \\frac{8}{17} * (-24) - \\frac{12}{17} * 18 = -\\frac{552}{17}$"
   ]
  },
  {
   "cell_type": "markdown",
   "metadata": {},
   "source": [
    "### 4. Найти производную функции \n",
    "### $U = e^{x^2 + y^2 + z^2}$ по направлению вектора $\\vec{d}(4, -13, -16)$ в точку $L(-16, 4, -13)$"
   ]
  },
  {
   "cell_type": "markdown",
   "metadata": {},
   "source": [
    "координаты нормированного вектора  \n",
    "$|\\vec{d}| = \\sqrt{x^2_0 + y^2_0 + x^2_0} = \\sqrt{4^2 + (-13)^2 + (-16)^2} = \\sqrt{441} = 21$  \n",
    "$\\vec{d_0} = \\frac{\\vec{d}}{|\\vec{d}|} = (\\frac{4}{21} - \\frac{13}{21} - \\frac{16}{21})$  \n",
    "\n",
    "частные производные первого порядка по всем переменным  \n",
    "$\\begin{cases}\n",
    "U'_x = e^{x^2+y^2+z^2} \\cdot 2x \\\\  \n",
    "U'_y = e^{x^2+y^2+z^2} \\cdot 2y \\\\ \n",
    "U'_z = e^{x^2+y^2+z^2} \\cdot 2z\n",
    "\\end{cases}$  \n",
    "\n",
    "значение градиента в точке  \n",
    "$grad U |_{(-16, 4, -13)} = (-32e^{441}, 8e^{441}, -26e^{441})$  \n",
    "\n",
    "скалярное произведение градиента в точке на нормированный направляющий вектор  \n",
    "$U'_{\\vec{d}}|_{(-16, 4, -13)} = \\frac{4}{21} * (-32e^{441}) - \\frac{13}{21} * 8e^{441} + \\frac{16}{21} * 26e^{441} = \\frac{184}{21}e^{441}$"
   ]
  },
  {
   "cell_type": "code",
   "execution_count": null,
   "metadata": {},
   "outputs": [],
   "source": []
  }
 ],
 "metadata": {
  "kernelspec": {
   "display_name": "Python 3",
   "language": "python",
   "name": "python3"
  },
  "language_info": {
   "codemirror_mode": {
    "name": "ipython",
    "version": 3
   },
   "file_extension": ".py",
   "mimetype": "text/x-python",
   "name": "python",
   "nbconvert_exporter": "python",
   "pygments_lexer": "ipython3",
   "version": "3.7.4"
  }
 },
 "nbformat": 4,
 "nbformat_minor": 2
}
