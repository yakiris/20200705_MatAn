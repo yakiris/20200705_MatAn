{
 "cells": [
  {
   "cell_type": "markdown",
   "metadata": {},
   "source": [
    "# Тема \"Ряды\""
   ]
  },
  {
   "cell_type": "markdown",
   "metadata": {},
   "source": [
    "### 1. Исследовать ряд на сходимость, используя признак д’Аламбера: $\\sum\\limits_{n=1}^{\\infty} \\frac{n^n}{(n!)^2}$"
   ]
  },
  {
   "cell_type": "markdown",
   "metadata": {},
   "source": [
    "#### $\\lim\\limits_{n \\rightarrow \\infty} \\frac{a_{n+1}}{a_n} = \\lim\\limits_{n \\rightarrow \\infty} \\frac{(n + 1)^{n + 1}}{((n + 1)!)^2} \\cdot \\frac{(n!)^2}{n^n} = \\lim\\limits_{n \\rightarrow \\infty} \\frac{e}{n + 1} = 0 < 1$  - ряд сходится"
   ]
  },
  {
   "cell_type": "markdown",
   "metadata": {},
   "source": [
    "### 2. Исследовать ряд на сходимость, используя радикальный признак Коши: $\\sum\\limits_{n=1}^{\\infty} \\frac{n}{2^n}$"
   ]
  },
  {
   "cell_type": "markdown",
   "metadata": {},
   "source": [
    "#### $\\lim\\limits_{n \\rightarrow \\infty}\\sqrt[n]{a_n} = \\lim\\limits_{n \\rightarrow \\infty}\\sqrt[n]{\\frac{n}{2^n}} = \\frac{1}{2} < 1$ - ряд сходится"
   ]
  },
  {
   "cell_type": "markdown",
   "metadata": {},
   "source": [
    "### 3. Исследовать ряд на сходимость, используя признак Лейбница: $\\sum\\limits_{n=1}^{\\infty} \\frac{(-1)^n}{n + ln \\ n}$"
   ]
  },
  {
   "cell_type": "markdown",
   "metadata": {},
   "source": [
    "#### $\\begin{cases}\n",
    "\\lim\\limits_{n \\rightarrow \\infty} \\ |a_n| = 0 \\\\  \n",
    "    |a_{n + 1}| \\leq |a_n|\n",
    "\\end{cases}$ \n",
    "$\\sum\\limits_{n = 1}^\\infty \\frac{1}{n + ln\\ n} \\approx (\\frac{1}{n^1})$ - **сходится условно**"
   ]
  },
  {
   "cell_type": "markdown",
   "metadata": {},
   "source": [
    "### 4. Исследовать ряд на сходимость, используя признак Раабе: $\\sum\\limits_{n=1}^{\\infty} \\frac{3^n}{2^n}$"
   ]
  },
  {
   "cell_type": "markdown",
   "metadata": {},
   "source": [
    "#### $\\lim\\limits_{n \\rightarrow \\infty} n(\\frac{a_n}{a_{n + 1}} - 1) = \\lim\\limits_{n \\rightarrow \\infty} n(\\frac{3^n}{2^n} : \\frac{3^{n + 1}}{2^{n + 1}} - 1) = \\lim\\limits_{n \\rightarrow \\infty} n(- \\frac{1}{3}) = - \\infty < 1$ - ряд расходится"
   ]
  },
  {
   "cell_type": "markdown",
   "metadata": {},
   "source": [
    "### 5. Разложить функцию по Тейлору в единице: $f(x) = ln(16x^2)$"
   ]
  },
  {
   "cell_type": "markdown",
   "metadata": {},
   "source": [
    "#### $ln(16^2) = ln16 + 2 \\sum\\limits_{n = 1}^\\infty (-1)^{n-1}\\frac{(x-1)^n}{n}$  \n",
    "### $(ln(16)^2)' = \\frac{2}{x}(ln(16x^2))'' = -\\frac{2}{x^2}(ln(16x^2))''' = \\frac{2*2}{x^3}(ln(16x^2))'''' = - \\frac{2 * 2 * 3}{x^4}$"
   ]
  },
  {
   "cell_type": "markdown",
   "metadata": {},
   "source": [
    "# Тема 8 \"Понятие об интеграле\""
   ]
  },
  {
   "cell_type": "markdown",
   "metadata": {},
   "source": [
    "### 1. Найти неопределенный интеграл:\n",
    "### $\\int(2x^2 - 2x - 1 + sin x - cos x + ln x + e^x)dx$"
   ]
  },
  {
   "cell_type": "markdown",
   "metadata": {},
   "source": [
    "$F(x) = \\frac{2}{3}x^3 - x^2 - x - cosx - sinx + x ln(x) - x + e^x + C$"
   ]
  },
  {
   "cell_type": "markdown",
   "metadata": {},
   "source": [
    "### 2. Найти неопределенный интеграл:  \n",
    "### $\\int(2x + 6xz^2 - 5x^2y - 3\\ ln\\ z)dx$"
   ]
  },
  {
   "cell_type": "markdown",
   "metadata": {},
   "source": [
    "$f(x) = x^2 + 3x^2y^2 - \\frac{5}{3}x^3y - 3x lnz + C$"
   ]
  },
  {
   "cell_type": "markdown",
   "metadata": {},
   "source": [
    "### 3. Вычислить определенный интеграл:\n",
    "### $\\int\\limits_0^{\\pi} 3x^2sin(2x)dx$"
   ]
  },
  {
   "cell_type": "markdown",
   "metadata": {},
   "source": [
    "### 4. Найти неопределенный интеграл:\n",
    "### $\\int \\frac{1}{\\sqrt{x+1}}dx$"
   ]
  },
  {
   "cell_type": "markdown",
   "metadata": {},
   "source": [
    "$F(x) = \\int(x + 1)^{-\\frac{1}{2}}dx = 2(x + 1)^{\\frac{1}{2}} + C$"
   ]
  },
  {
   "cell_type": "code",
   "execution_count": null,
   "metadata": {},
   "outputs": [],
   "source": []
  }
 ],
 "metadata": {
  "kernelspec": {
   "display_name": "Python 3",
   "language": "python",
   "name": "python3"
  },
  "language_info": {
   "codemirror_mode": {
    "name": "ipython",
    "version": 3
   },
   "file_extension": ".py",
   "mimetype": "text/x-python",
   "name": "python",
   "nbconvert_exporter": "python",
   "pygments_lexer": "ipython3",
   "version": "3.7.4"
  }
 },
 "nbformat": 4,
 "nbformat_minor": 2
}
